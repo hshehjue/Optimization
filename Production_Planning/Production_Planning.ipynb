{
 "cells": [
  {
   "cell_type": "markdown",
   "metadata": {},
   "source": [
    "# Production Planning Problem\n",
    "* Linear Programming\n"
   ]
  },
  {
   "cell_type": "code",
   "execution_count": 33,
   "metadata": {},
   "outputs": [],
   "source": [
    "import gurobipy as gp\n",
    "from gurobipy import GRB\n",
    "import pandas as pd\n",
    "from collections import OrderedDict"
   ]
  },
  {
   "cell_type": "markdown",
   "metadata": {},
   "source": [
    "## Set decision variables"
   ]
  },
  {
   "cell_type": "code",
   "execution_count": 34,
   "metadata": {},
   "outputs": [],
   "source": [
    "# Model\n",
    "m = gp.Model(\"PB\")\n",
    "\n",
    "# Decision variables for the regular, extra production, and stock by month\n",
    "x1_1 = m.addVar(name=\"Normal_Prod1\")\n",
    "x1_2 = m.addVar(name=\"Extra_Prod1\")\n",
    "x2_1 = m.addVar(name=\"Normal_Prod2\")\n",
    "x2_2 = m.addVar(name=\"Extra_Prod2\")\n",
    "x3_1 = m.addVar(name=\"Normal_Prod3\")\n",
    "x3_2 = m.addVar(name=\"Extra_Prod3\")\n",
    "x4_1 = m.addVar(name=\"Normal_Prod4\")\n",
    "x4_2 = m.addVar(name=\"Extra_Prod4\")\n",
    "s1 = m.addVar(name=\"stock1\")\n",
    "s2 = m.addVar(name=\"stock2\")\n",
    "s3 = m.addVar(name=\"stock3\")"
   ]
  },
  {
   "cell_type": "markdown",
   "metadata": {},
   "source": [
    "## Define an objective function and constraints"
   ]
  },
  {
   "cell_type": "code",
   "execution_count": 35,
   "metadata": {},
   "outputs": [
    {
     "name": "stdout",
     "output_type": "stream",
     "text": [
      "Gurobi Optimizer version 9.1.2 build v9.1.2rc0 (mac64)\n",
      "Thread count: 4 physical cores, 8 logical processors, using up to 8 threads\n",
      "Optimize a model with 30 rows, 11 columns and 61 nonzeros\n",
      "Model fingerprint: 0x09eca39d\n",
      "Coefficient statistics:\n",
      "  Matrix range     [1e-01, 1e+00]\n",
      "  Objective range  [5e+00, 7e+02]\n",
      "  Bounds range     [0e+00, 0e+00]\n",
      "  RHS range        [5e+01, 3e+02]\n",
      "Presolve removed 27 rows and 3 columns\n",
      "Presolve time: 0.00s\n",
      "Presolved: 3 rows, 8 columns, 10 nonzeros\n",
      "\n",
      "Iteration    Objective       Primal Inf.    Dual Inf.      Time\n",
      "       0    2.4125935e+05   4.191750e+01   0.000000e+00      0s\n",
      "       3    3.9317500e+05   0.000000e+00   0.000000e+00      0s\n",
      "\n",
      "Solved in 3 iterations and 0.01 seconds\n",
      "Optimal objective  3.931750000e+05\n"
     ]
    }
   ],
   "source": [
    "# Formulation \n",
    "\n",
    "#### Objective Function ####\n",
    "# The objective is to minimize the total cost\n",
    "obj = 440*(x1_1+x2_1+x3_1+x4_1) + 700*(x1_2+x2_2+x3_2+x4_2)+5*(s1+s2+s3)\n",
    "\n",
    "m.setObjective(obj, GRB.MINIMIZE)\n",
    "\n",
    "#### Constraints ####\n",
    "# Regular production <= max regular production   \n",
    "con1 = m.addConstr(x1_1 <= 140, name = \"max_normProd1\")\n",
    "con2 = m.addConstr(x2_1 <= 150, name = \"max_normProd2\")\n",
    "con3 = m.addConstr(x3_1 <= 140, name = \"max_normProd3\")\n",
    "con4 = m.addConstr(x4_1 <= 160, name = \"max_normProd4\")\n",
    "\n",
    "# Extra production <= max extra production\n",
    "con5 = m.addConstr(x1_2 <= 50, name = \"max_extraProd1\")\n",
    "con6 = m.addConstr(x2_2 <= 75, name = \"max_extraProd2\")\n",
    "con7 = m.addConstr(x3_2 <= 70, name = \"max_extraProd3\")\n",
    "con8 = m.addConstr(x4_2 <= 80, name = \"max_extraProd4\")\n",
    "\n",
    "# stock(i-1) + production(i) - stock(i) = demand(i)\n",
    "con9 = m.addConstr(x1_1+x1_2-s1 == 120, name = \"meet_demand1\")\n",
    "con10 = m.addConstr(s1+x2_1+x2_2-s2 == 160, name = \"meet_demand2\")\n",
    "con11 = m.addConstr(s2+x3_1+x3_2-s3 == 300, name = \"meet_demand3\")\n",
    "con12 = m.addConstr(s3+x4_1+x4_2 == 200, name = \"meet_demand4\")\n",
    "\n",
    "# Max capacity of warehouse \n",
    "con13 = m.addConstr(s1 <= 100, name = \"max_cap1\")\n",
    "con14 = m.addConstr(s2 <= 100, name = \"max_cap2\")\n",
    "con15 = m.addConstr(s3 <= 100, name = \"max_cap3\")\n",
    "\n",
    "# Normal production of each month >= 10% of the total production of the first three months\n",
    "con16 = m.addConstr(x1_1 >= 0.1*(x1_1+x1_2+x2_1+x2_2+x3_1+x3_2), name = \"balanced_prod1\")\n",
    "con17 = m.addConstr(x2_1 >= 0.1*(x1_1+x1_2+x2_1+x2_2+x3_1+x3_2), name = \"balanced_prod2\")\n",
    "con18 = m.addConstr(x3_1 >= 0.1*(x1_1+x1_2+x2_1+x2_2+x3_1+x3_2), name = \"balanced_prod3\")\n",
    "con19 = m.addConstr(x4_1 >= 0.1*(x1_1+x1_2+x2_1+x2_2+x3_1+x3_2), name = \"balanced_prod4\")\n",
    "\n",
    "# Non-negativity constraints\n",
    "con20 = m.addConstr(x1_1 >= 0, name = \"NonNegative1_1\")\n",
    "con21 = m.addConstr(x1_2 >= 0, name = \"NonNegative1_2\")\n",
    "con22 = m.addConstr(x2_1 >= 0, name = \"NonNegative2_1\") \n",
    "con23 = m.addConstr(x2_2 >= 0, name = \"NonNegative2_2\") \n",
    "con24 = m.addConstr(x3_1 >= 0, name = \"NonNegative3_1\") \n",
    "con25 = m.addConstr(x3_2 >= 0, name = \"NonNegative3_2\") \n",
    "con26 = m.addConstr(x4_1 >= 0, name = \"NonNegative4_1\") \n",
    "con27 = m.addConstr(x4_2 >= 0, name = \"NonNegative4_2\") \n",
    "con28 = m.addConstr(s1 >= 0, name = \"NonNegative_s1\")\n",
    "con29 = m.addConstr(s2 >= 0, name = \"NonNegative_s2\")\n",
    "con30 = m.addConstr(s3 >= 0, name = \"NonNegative_s3\")\n",
    "\n",
    "# Solve\n",
    "m.optimize()"
   ]
  },
  {
   "cell_type": "markdown",
   "metadata": {},
   "source": [
    "## Optimal value with optimal variables"
   ]
  },
  {
   "cell_type": "code",
   "execution_count": 36,
   "metadata": {},
   "outputs": [
    {
     "name": "stdout",
     "output_type": "stream",
     "text": [
      "\n",
      "Total cost to produce rice over 4 months: $ 393175\n",
      "\n",
      "Decision variables:\n",
      "Normal_Prod1 = 140\n",
      "Extra_Prod1 = 5\n",
      "Normal_Prod2 = 150\n",
      "Extra_Prod2 = 75\n",
      "Normal_Prod3 = 140\n",
      "Extra_Prod3 = 70\n",
      "Normal_Prod4 = 160\n",
      "Extra_Prod4 = 40\n",
      "stock1 = 25\n",
      "stock2 = 90\n",
      "stock3 = 0\n"
     ]
    }
   ],
   "source": [
    "# Print optimal value of the objective function\n",
    "print('\\nTotal cost to produce rice over 4 months: $ %g' % m.objVal)\n",
    "\n",
    "# Print optimal values for the decision variables\n",
    "print('\\nDecision variables:')\n",
    "for v in m.getVars():\n",
    "    print('%s = %g' % (v.varName, v.x))"
   ]
  },
  {
   "cell_type": "markdown",
   "metadata": {},
   "source": [
    "## Sensitivity Analysis"
   ]
  },
  {
   "cell_type": "code",
   "execution_count": 31,
   "metadata": {},
   "outputs": [
    {
     "name": "stdout",
     "output_type": "stream",
     "text": [
      "\n",
      "\n",
      "    Name  Final Value  Reduced Cost  Obj Coeff  Upper Range  Lower Range\n",
      "0   x1_1        140.0           0.0        440        700.0         -inf\n",
      "1   x1_2          5.0           0.0        700          inf        695.0\n",
      "2   x2_1        150.0           0.0        440        705.0         -inf\n",
      "3   x2_2         75.0           0.0        700        705.0         -inf\n",
      "4   x3_1        140.0           0.0        440        710.0         -inf\n",
      "5   x3_2         70.0           0.0        700        710.0         -inf\n",
      "6   x4_1        160.0           0.0        440        700.0         -inf\n",
      "7   x4_2         40.0           0.0        700        715.0        440.0\n",
      "8     s1         25.0           0.0          5          inf          0.0\n",
      "9     s2         90.0           0.0          5          inf         -5.0\n",
      "10    s3          0.0          15.0          5          inf        -10.0\n"
     ]
    }
   ],
   "source": [
    "# Create table for decision variables' sensitivity analysis\n",
    "decision_var = OrderedDict([\n",
    "    ('Name', ['x1_1', 'x1_2', 'x2_1', 'x2_2', 'x3_1', 'x3_2', 'x4_1', 'x4_2', 's1', 's2', 's3']),\n",
    "    ('Final Value', [x1_1.x, x1_2.x, x2_1.x, x2_2.x, x3_1.x, x3_2.x, x4_1.x, x4_2.x, s1.x, s2.x, s3.x]),\n",
    "    ('Reduced Cost', [x1_1.RC, x1_2.RC, x2_1.RC, x2_2.RC, x3_1.RC, x3_2.RC, x4_1.RC, x4_2.RC, s1.RC, s2.RC, s3.RC]),\n",
    "    ('Obj Coeff', [440,700,440,700,440,700,440,700,5,5,5]),\n",
    "    ('Upper Range', [x1_1.SAObjUp, x1_2.SAObjUp, x2_1.SAObjUp, x2_2.SAObjUp, \n",
    "                     x3_1.SAObjUp, x3_2.SAObjUp, x4_1.SAObjUp, x4_2.SAObjUp,\n",
    "                     s1.SAObjUp, s2.SAObjUp, s3.SAObjUp]),\n",
    "    ('Lower Range', [x1_1.SAObjLow, x1_2.SAObjLow, x2_1.SAObjLow, x2_2.SAObjLow, \n",
    "                     x3_1.SAObjLow, x3_2.SAObjLow, x4_1.SAObjLow, x4_2.SAObjLow, \n",
    "                     s1.SAObjLow, s2.SAObjLow, s3.SAObjLow])\n",
    "])\n",
    "\n",
    "\n",
    "# Print sensitivity analysis tables for decision variables and constraints\n",
    "print('\\n')\n",
    "print(pd.DataFrame.from_dict(decision_var))\n"
   ]
  }
 ],
 "metadata": {
  "kernelspec": {
   "display_name": "Python 3",
   "language": "python",
   "name": "python3"
  },
  "language_info": {
   "codemirror_mode": {
    "name": "ipython",
    "version": 3
   },
   "file_extension": ".py",
   "mimetype": "text/x-python",
   "name": "python",
   "nbconvert_exporter": "python",
   "pygments_lexer": "ipython3",
   "version": "3.7.5"
  }
 },
 "nbformat": 4,
 "nbformat_minor": 4
}
